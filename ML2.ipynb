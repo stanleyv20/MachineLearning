{
  "cells": [
    {
      "cell_type": "code",
      "execution_count": 502,
      "metadata": {
        "id": "Mjzyy8esA2Dg"
      },
      "outputs": [],
      "source": [
        "# Machine Learning 2 - Neural Network\n",
        "\n",
        "# To load data via Google Drive\n",
        "# from google.colab import drive\n",
        "# drive.mount(\"/content/gdrive\")\n",
        "# dataFilePath = \"/content/adult.txt\"\n",
        "# df = pandas.read_table(dataFilePath, header=1, delim_whitespace=True)\n",
        "# df.head()"
      ]
    },
    {
      "cell_type": "code",
      "execution_count": 503,
      "metadata": {
        "colab": {
          "base_uri": "https://localhost:8080/",
          "height": 309
        },
        "id": "YumR1STdF5RM",
        "outputId": "1cb26d30-2481-45da-cde5-931465bc73f1"
      },
      "outputs": [
        {
          "data": {
            "text/html": [
              "<div>\n",
              "<style scoped>\n",
              "    .dataframe tbody tr th:only-of-type {\n",
              "        vertical-align: middle;\n",
              "    }\n",
              "\n",
              "    .dataframe tbody tr th {\n",
              "        vertical-align: top;\n",
              "    }\n",
              "\n",
              "    .dataframe thead th {\n",
              "        text-align: right;\n",
              "    }\n",
              "</style>\n",
              "<table border=\"1\" class=\"dataframe\">\n",
              "  <thead>\n",
              "    <tr style=\"text-align: right;\">\n",
              "      <th></th>\n",
              "      <th>Age</th>\n",
              "      <th>WorkClass</th>\n",
              "      <th>fnlwgt</th>\n",
              "      <th>Education</th>\n",
              "      <th>EducationNum</th>\n",
              "      <th>MaritalStatus</th>\n",
              "      <th>Occupation</th>\n",
              "      <th>Relationship</th>\n",
              "      <th>Race</th>\n",
              "      <th>Sex</th>\n",
              "      <th>CapitalGain</th>\n",
              "      <th>CapitalLoss</th>\n",
              "      <th>HoursPerWeek</th>\n",
              "      <th>NativeCountry</th>\n",
              "      <th>IncomeLevel</th>\n",
              "    </tr>\n",
              "  </thead>\n",
              "  <tbody>\n",
              "    <tr>\n",
              "      <th>0</th>\n",
              "      <td>38</td>\n",
              "      <td>Private</td>\n",
              "      <td>89814</td>\n",
              "      <td>HS-grad</td>\n",
              "      <td>9</td>\n",
              "      <td>Married-civ-spouse</td>\n",
              "      <td>Farming-fishing</td>\n",
              "      <td>Husband</td>\n",
              "      <td>White</td>\n",
              "      <td>Male</td>\n",
              "      <td>0</td>\n",
              "      <td>0</td>\n",
              "      <td>50</td>\n",
              "      <td>United-States</td>\n",
              "      <td>&lt;=50K.</td>\n",
              "    </tr>\n",
              "    <tr>\n",
              "      <th>1</th>\n",
              "      <td>28</td>\n",
              "      <td>Local-gov</td>\n",
              "      <td>336951</td>\n",
              "      <td>Assoc-acdm</td>\n",
              "      <td>12</td>\n",
              "      <td>Married-civ-spouse</td>\n",
              "      <td>Protective-serv</td>\n",
              "      <td>Husband</td>\n",
              "      <td>White</td>\n",
              "      <td>Male</td>\n",
              "      <td>0</td>\n",
              "      <td>0</td>\n",
              "      <td>40</td>\n",
              "      <td>United-States</td>\n",
              "      <td>&gt;50K.</td>\n",
              "    </tr>\n",
              "    <tr>\n",
              "      <th>2</th>\n",
              "      <td>44</td>\n",
              "      <td>Private</td>\n",
              "      <td>160323</td>\n",
              "      <td>Some-college</td>\n",
              "      <td>10</td>\n",
              "      <td>Married-civ-spouse</td>\n",
              "      <td>Machine-op-inspct</td>\n",
              "      <td>Husband</td>\n",
              "      <td>Black</td>\n",
              "      <td>Male</td>\n",
              "      <td>7688</td>\n",
              "      <td>0</td>\n",
              "      <td>40</td>\n",
              "      <td>United-States</td>\n",
              "      <td>&gt;50K.</td>\n",
              "    </tr>\n",
              "    <tr>\n",
              "      <th>3</th>\n",
              "      <td>18</td>\n",
              "      <td>?</td>\n",
              "      <td>103497</td>\n",
              "      <td>Some-college</td>\n",
              "      <td>10</td>\n",
              "      <td>Never-married</td>\n",
              "      <td>?</td>\n",
              "      <td>Own-child</td>\n",
              "      <td>White</td>\n",
              "      <td>Female</td>\n",
              "      <td>0</td>\n",
              "      <td>0</td>\n",
              "      <td>30</td>\n",
              "      <td>United-States</td>\n",
              "      <td>&lt;=50K.</td>\n",
              "    </tr>\n",
              "    <tr>\n",
              "      <th>4</th>\n",
              "      <td>34</td>\n",
              "      <td>Private</td>\n",
              "      <td>198693</td>\n",
              "      <td>10th</td>\n",
              "      <td>6</td>\n",
              "      <td>Never-married</td>\n",
              "      <td>Other-service</td>\n",
              "      <td>Not-in-family</td>\n",
              "      <td>White</td>\n",
              "      <td>Male</td>\n",
              "      <td>0</td>\n",
              "      <td>0</td>\n",
              "      <td>30</td>\n",
              "      <td>United-States</td>\n",
              "      <td>&lt;=50K.</td>\n",
              "    </tr>\n",
              "  </tbody>\n",
              "</table>\n",
              "</div>"
            ],
            "text/plain": [
              "   Age  WorkClass  fnlwgt  ... HoursPerWeek  NativeCountry IncomeLevel\n",
              "0   38    Private   89814  ...           50  United-States      <=50K.\n",
              "1   28  Local-gov  336951  ...           40  United-States       >50K.\n",
              "2   44    Private  160323  ...           40  United-States       >50K.\n",
              "3   18          ?  103497  ...           30  United-States      <=50K.\n",
              "4   34    Private  198693  ...           30  United-States      <=50K.\n",
              "\n",
              "[5 rows x 15 columns]"
            ]
          },
          "execution_count": 503,
          "metadata": {
            "tags": []
          },
          "output_type": "execute_result"
        }
      ],
      "source": [
        "import pandas # used to read data into tabular format\n",
        "\n",
        "# Census Income dataset used is taken from: https://archive.ics.uci.edu/ml/datasets/Adult\n",
        "\n",
        "# Importing data into pandas dataframe object from .txt file saved in Dropbox\n",
        "# I made file at this location public so may be able to run as is \n",
        "# else please import data to Google Drive or Dropbox and try importing using commented out method above or below \n",
        "dataFilePath = (\"https://www.dropbox.com/s/adh0gvi8wynrrdf/adult.txt?dl=1\")\n",
        "df = pandas.read_table(dataFilePath, header=0, index_col=False, skipinitialspace=True, sep=',',\n",
        "                       names=['Age', 'WorkClass', 'fnlwgt', 'Education', 'EducationNum', 'MaritalStatus', 'Occupation', 'Relationship', 'Race', 'Sex', 'CapitalGain', 'CapitalLoss', 'HoursPerWeek', 'NativeCountry', 'IncomeLevel'])\n",
        "df.head()"
      ]
    },
    {
      "cell_type": "code",
      "execution_count": 504,
      "metadata": {
        "colab": {
          "base_uri": "https://localhost:8080/",
          "height": 297
        },
        "id": "aFUac9NrIR6e",
        "outputId": "cc84e6a8-8ea7-48fb-c4eb-cba9884e6be5"
      },
      "outputs": [
        {
          "data": {
            "text/html": [
              "<div>\n",
              "<style scoped>\n",
              "    .dataframe tbody tr th:only-of-type {\n",
              "        vertical-align: middle;\n",
              "    }\n",
              "\n",
              "    .dataframe tbody tr th {\n",
              "        vertical-align: top;\n",
              "    }\n",
              "\n",
              "    .dataframe thead th {\n",
              "        text-align: right;\n",
              "    }\n",
              "</style>\n",
              "<table border=\"1\" class=\"dataframe\">\n",
              "  <thead>\n",
              "    <tr style=\"text-align: right;\">\n",
              "      <th></th>\n",
              "      <th>Age</th>\n",
              "      <th>fnlwgt</th>\n",
              "      <th>EducationNum</th>\n",
              "      <th>CapitalGain</th>\n",
              "      <th>CapitalLoss</th>\n",
              "      <th>HoursPerWeek</th>\n",
              "    </tr>\n",
              "  </thead>\n",
              "  <tbody>\n",
              "    <tr>\n",
              "      <th>count</th>\n",
              "      <td>16280.000000</td>\n",
              "      <td>1.628000e+04</td>\n",
              "      <td>16280.000000</td>\n",
              "      <td>16280.00000</td>\n",
              "      <td>16280.000000</td>\n",
              "      <td>16280.000000</td>\n",
              "    </tr>\n",
              "    <tr>\n",
              "      <th>mean</th>\n",
              "      <td>38.768305</td>\n",
              "      <td>1.894334e+05</td>\n",
              "      <td>10.073096</td>\n",
              "      <td>1081.97156</td>\n",
              "      <td>87.904668</td>\n",
              "      <td>40.392260</td>\n",
              "    </tr>\n",
              "    <tr>\n",
              "      <th>std</th>\n",
              "      <td>13.849192</td>\n",
              "      <td>1.057177e+05</td>\n",
              "      <td>2.567511</td>\n",
              "      <td>7584.16416</td>\n",
              "      <td>403.117078</td>\n",
              "      <td>12.479715</td>\n",
              "    </tr>\n",
              "    <tr>\n",
              "      <th>min</th>\n",
              "      <td>17.000000</td>\n",
              "      <td>1.349200e+04</td>\n",
              "      <td>1.000000</td>\n",
              "      <td>0.00000</td>\n",
              "      <td>0.000000</td>\n",
              "      <td>1.000000</td>\n",
              "    </tr>\n",
              "    <tr>\n",
              "      <th>25%</th>\n",
              "      <td>28.000000</td>\n",
              "      <td>1.167162e+05</td>\n",
              "      <td>9.000000</td>\n",
              "      <td>0.00000</td>\n",
              "      <td>0.000000</td>\n",
              "      <td>40.000000</td>\n",
              "    </tr>\n",
              "    <tr>\n",
              "      <th>50%</th>\n",
              "      <td>37.000000</td>\n",
              "      <td>1.778295e+05</td>\n",
              "      <td>10.000000</td>\n",
              "      <td>0.00000</td>\n",
              "      <td>0.000000</td>\n",
              "      <td>40.000000</td>\n",
              "    </tr>\n",
              "    <tr>\n",
              "      <th>75%</th>\n",
              "      <td>48.000000</td>\n",
              "      <td>2.383840e+05</td>\n",
              "      <td>12.000000</td>\n",
              "      <td>0.00000</td>\n",
              "      <td>0.000000</td>\n",
              "      <td>45.000000</td>\n",
              "    </tr>\n",
              "    <tr>\n",
              "      <th>max</th>\n",
              "      <td>90.000000</td>\n",
              "      <td>1.490400e+06</td>\n",
              "      <td>16.000000</td>\n",
              "      <td>99999.00000</td>\n",
              "      <td>3770.000000</td>\n",
              "      <td>99.000000</td>\n",
              "    </tr>\n",
              "  </tbody>\n",
              "</table>\n",
              "</div>"
            ],
            "text/plain": [
              "                Age        fnlwgt  ...   CapitalLoss  HoursPerWeek\n",
              "count  16280.000000  1.628000e+04  ...  16280.000000  16280.000000\n",
              "mean      38.768305  1.894334e+05  ...     87.904668     40.392260\n",
              "std       13.849192  1.057177e+05  ...    403.117078     12.479715\n",
              "min       17.000000  1.349200e+04  ...      0.000000      1.000000\n",
              "25%       28.000000  1.167162e+05  ...      0.000000     40.000000\n",
              "50%       37.000000  1.778295e+05  ...      0.000000     40.000000\n",
              "75%       48.000000  2.383840e+05  ...      0.000000     45.000000\n",
              "max       90.000000  1.490400e+06  ...   3770.000000     99.000000\n",
              "\n",
              "[8 rows x 6 columns]"
            ]
          },
          "execution_count": 504,
          "metadata": {
            "tags": []
          },
          "output_type": "execute_result"
        }
      ],
      "source": [
        "df.describe()"
      ]
    },
    {
      "cell_type": "code",
      "execution_count": 505,
      "metadata": {
        "colab": {
          "base_uri": "https://localhost:8080/",
          "height": 309
        },
        "id": "1zxL7d7WMxuG",
        "outputId": "7d91a377-7b0f-4ad0-c011-dd1b6a7ca258"
      },
      "outputs": [
        {
          "data": {
            "text/html": [
              "<div>\n",
              "<style scoped>\n",
              "    .dataframe tbody tr th:only-of-type {\n",
              "        vertical-align: middle;\n",
              "    }\n",
              "\n",
              "    .dataframe tbody tr th {\n",
              "        vertical-align: top;\n",
              "    }\n",
              "\n",
              "    .dataframe thead th {\n",
              "        text-align: right;\n",
              "    }\n",
              "</style>\n",
              "<table border=\"1\" class=\"dataframe\">\n",
              "  <thead>\n",
              "    <tr style=\"text-align: right;\">\n",
              "      <th></th>\n",
              "      <th>Age</th>\n",
              "      <th>WorkClass</th>\n",
              "      <th>fnlwgt</th>\n",
              "      <th>Education</th>\n",
              "      <th>EducationNum</th>\n",
              "      <th>MaritalStatus</th>\n",
              "      <th>Occupation</th>\n",
              "      <th>Relationship</th>\n",
              "      <th>Race</th>\n",
              "      <th>Sex</th>\n",
              "      <th>CapitalGain</th>\n",
              "      <th>CapitalLoss</th>\n",
              "      <th>HoursPerWeek</th>\n",
              "      <th>NativeCountry</th>\n",
              "      <th>IncomeLevel</th>\n",
              "    </tr>\n",
              "  </thead>\n",
              "  <tbody>\n",
              "    <tr>\n",
              "      <th>0</th>\n",
              "      <td>38</td>\n",
              "      <td>Private</td>\n",
              "      <td>89814</td>\n",
              "      <td>HS-grad</td>\n",
              "      <td>9</td>\n",
              "      <td>Married-civ-spouse</td>\n",
              "      <td>Farming-fishing</td>\n",
              "      <td>Husband</td>\n",
              "      <td>White</td>\n",
              "      <td>Male</td>\n",
              "      <td>0</td>\n",
              "      <td>0</td>\n",
              "      <td>50</td>\n",
              "      <td>United-States</td>\n",
              "      <td>&lt;=50K.</td>\n",
              "    </tr>\n",
              "    <tr>\n",
              "      <th>1</th>\n",
              "      <td>28</td>\n",
              "      <td>Local-gov</td>\n",
              "      <td>336951</td>\n",
              "      <td>Assoc-acdm</td>\n",
              "      <td>12</td>\n",
              "      <td>Married-civ-spouse</td>\n",
              "      <td>Protective-serv</td>\n",
              "      <td>Husband</td>\n",
              "      <td>White</td>\n",
              "      <td>Male</td>\n",
              "      <td>0</td>\n",
              "      <td>0</td>\n",
              "      <td>40</td>\n",
              "      <td>United-States</td>\n",
              "      <td>&gt;50K.</td>\n",
              "    </tr>\n",
              "    <tr>\n",
              "      <th>2</th>\n",
              "      <td>44</td>\n",
              "      <td>Private</td>\n",
              "      <td>160323</td>\n",
              "      <td>Some-college</td>\n",
              "      <td>10</td>\n",
              "      <td>Married-civ-spouse</td>\n",
              "      <td>Machine-op-inspct</td>\n",
              "      <td>Husband</td>\n",
              "      <td>Black</td>\n",
              "      <td>Male</td>\n",
              "      <td>7688</td>\n",
              "      <td>0</td>\n",
              "      <td>40</td>\n",
              "      <td>United-States</td>\n",
              "      <td>&gt;50K.</td>\n",
              "    </tr>\n",
              "    <tr>\n",
              "      <th>3</th>\n",
              "      <td>18</td>\n",
              "      <td>?</td>\n",
              "      <td>103497</td>\n",
              "      <td>Some-college</td>\n",
              "      <td>10</td>\n",
              "      <td>Never-married</td>\n",
              "      <td>?</td>\n",
              "      <td>Own-child</td>\n",
              "      <td>White</td>\n",
              "      <td>Female</td>\n",
              "      <td>0</td>\n",
              "      <td>0</td>\n",
              "      <td>30</td>\n",
              "      <td>United-States</td>\n",
              "      <td>&lt;=50K.</td>\n",
              "    </tr>\n",
              "    <tr>\n",
              "      <th>4</th>\n",
              "      <td>34</td>\n",
              "      <td>Private</td>\n",
              "      <td>198693</td>\n",
              "      <td>10th</td>\n",
              "      <td>6</td>\n",
              "      <td>Never-married</td>\n",
              "      <td>Other-service</td>\n",
              "      <td>Not-in-family</td>\n",
              "      <td>White</td>\n",
              "      <td>Male</td>\n",
              "      <td>0</td>\n",
              "      <td>0</td>\n",
              "      <td>30</td>\n",
              "      <td>United-States</td>\n",
              "      <td>&lt;=50K.</td>\n",
              "    </tr>\n",
              "  </tbody>\n",
              "</table>\n",
              "</div>"
            ],
            "text/plain": [
              "   Age  WorkClass  fnlwgt  ... HoursPerWeek  NativeCountry IncomeLevel\n",
              "0   38    Private   89814  ...           50  United-States      <=50K.\n",
              "1   28  Local-gov  336951  ...           40  United-States       >50K.\n",
              "2   44    Private  160323  ...           40  United-States       >50K.\n",
              "3   18          ?  103497  ...           30  United-States      <=50K.\n",
              "4   34    Private  198693  ...           30  United-States      <=50K.\n",
              "\n",
              "[5 rows x 15 columns]"
            ]
          },
          "execution_count": 505,
          "metadata": {
            "tags": []
          },
          "output_type": "execute_result"
        }
      ],
      "source": [
        "df.head()"
      ]
    },
    {
      "cell_type": "code",
      "execution_count": 506,
      "metadata": {
        "colab": {
          "base_uri": "https://localhost:8080/"
        },
        "id": "c-2lgKGUdtdZ",
        "outputId": "ed4e1e8d-d2d4-471b-e0ab-cf6328c97b7c"
      },
      "outputs": [
        {
          "data": {
            "text/plain": [
              "963"
            ]
          },
          "execution_count": 506,
          "metadata": {
            "tags": []
          },
          "output_type": "execute_result"
        }
      ],
      "source": [
        "(df['WorkClass']=='?').sum()"
      ]
    },
    {
      "cell_type": "code",
      "execution_count": 507,
      "metadata": {
        "colab": {
          "base_uri": "https://localhost:8080/"
        },
        "id": "zCzAgMA1js5T",
        "outputId": "1c93e959-4ee0-4d5f-c787-40f010cf2e61"
      },
      "outputs": [
        {
          "data": {
            "text/plain": [
              "(16280, 15)"
            ]
          },
          "execution_count": 507,
          "metadata": {
            "tags": []
          },
          "output_type": "execute_result"
        }
      ],
      "source": [
        "df.shape"
      ]
    },
    {
      "cell_type": "code",
      "execution_count": 508,
      "metadata": {
        "id": "LzPW56rqjzDZ"
      },
      "outputs": [],
      "source": [
        "df=df[df['WorkClass'] != '?']"
      ]
    },
    {
      "cell_type": "code",
      "execution_count": 509,
      "metadata": {
        "colab": {
          "base_uri": "https://localhost:8080/"
        },
        "id": "OAbnQiTOe4Wd",
        "outputId": "c1b193d3-7014-44f0-f612-1c951fee0491"
      },
      "outputs": [
        {
          "data": {
            "text/plain": [
              "(15317, 15)"
            ]
          },
          "execution_count": 509,
          "metadata": {
            "tags": []
          },
          "output_type": "execute_result"
        }
      ],
      "source": [
        "df.shape"
      ]
    },
    {
      "cell_type": "code",
      "execution_count": 510,
      "metadata": {
        "colab": {
          "base_uri": "https://localhost:8080/"
        },
        "id": "J644NkmEkKjz",
        "outputId": "a2a14a9a-5d46-4934-fe28-3ca7db903820"
      },
      "outputs": [
        {
          "data": {
            "text/plain": [
              "0"
            ]
          },
          "execution_count": 510,
          "metadata": {
            "tags": []
          },
          "output_type": "execute_result"
        }
      ],
      "source": [
        "(df['MaritalStatus']=='?').sum()"
      ]
    },
    {
      "cell_type": "code",
      "execution_count": 511,
      "metadata": {
        "colab": {
          "base_uri": "https://localhost:8080/"
        },
        "id": "7p4_XtMDn_Pz",
        "outputId": "bc0cc695-949b-4f87-bff2-886776f3113c"
      },
      "outputs": [
        {
          "data": {
            "text/plain": [
              "3"
            ]
          },
          "execution_count": 511,
          "metadata": {
            "tags": []
          },
          "output_type": "execute_result"
        }
      ],
      "source": [
        "(df['Occupation']=='?').sum()"
      ]
    },
    {
      "cell_type": "code",
      "execution_count": 512,
      "metadata": {
        "colab": {
          "base_uri": "https://localhost:8080/"
        },
        "id": "wxVdqWfGoFY9",
        "outputId": "776693ce-185f-4fab-c2e1-39e13bb67040"
      },
      "outputs": [
        {
          "data": {
            "text/plain": [
              "(15314, 15)"
            ]
          },
          "execution_count": 512,
          "metadata": {
            "tags": []
          },
          "output_type": "execute_result"
        }
      ],
      "source": [
        "df=df[df['Occupation'] != '?']\n",
        "df.shape"
      ]
    },
    {
      "cell_type": "code",
      "execution_count": 513,
      "metadata": {
        "colab": {
          "base_uri": "https://localhost:8080/"
        },
        "id": "Vejm9uVroJ1g",
        "outputId": "8e8b91cd-cb79-4a8c-9f5d-3f80becad5b9"
      },
      "outputs": [
        {
          "data": {
            "text/plain": [
              "0"
            ]
          },
          "execution_count": 513,
          "metadata": {
            "tags": []
          },
          "output_type": "execute_result"
        }
      ],
      "source": [
        "(df['Relationship']=='?').sum() "
      ]
    },
    {
      "cell_type": "code",
      "execution_count": 514,
      "metadata": {
        "colab": {
          "base_uri": "https://localhost:8080/"
        },
        "id": "K-9FhOnyoP_q",
        "outputId": "b0d0e342-697b-4142-e241-d56ae7e5aa4a"
      },
      "outputs": [
        {
          "data": {
            "text/plain": [
              "0"
            ]
          },
          "execution_count": 514,
          "metadata": {
            "tags": []
          },
          "output_type": "execute_result"
        }
      ],
      "source": [
        "(df['Race']=='?').sum() "
      ]
    },
    {
      "cell_type": "code",
      "execution_count": 515,
      "metadata": {
        "colab": {
          "base_uri": "https://localhost:8080/"
        },
        "id": "1oBYD9AzoaSt",
        "outputId": "f6a628e5-f6cd-40a3-9c9f-8c65c46bd13a"
      },
      "outputs": [
        {
          "data": {
            "text/plain": [
              "0"
            ]
          },
          "execution_count": 515,
          "metadata": {
            "tags": []
          },
          "output_type": "execute_result"
        }
      ],
      "source": [
        "(df['Sex']=='?').sum() "
      ]
    },
    {
      "cell_type": "code",
      "execution_count": 516,
      "metadata": {
        "colab": {
          "base_uri": "https://localhost:8080/"
        },
        "id": "UeCp7683oeS1",
        "outputId": "7c909138-66ee-477c-ec0f-b15456136840"
      },
      "outputs": [
        {
          "data": {
            "text/plain": [
              "0"
            ]
          },
          "execution_count": 516,
          "metadata": {
            "tags": []
          },
          "output_type": "execute_result"
        }
      ],
      "source": [
        "(df['CapitalGain']=='?').sum() "
      ]
    },
    {
      "cell_type": "code",
      "execution_count": 517,
      "metadata": {
        "colab": {
          "base_uri": "https://localhost:8080/"
        },
        "id": "mRSXq-dfoicw",
        "outputId": "aa08ac8a-d7b3-497d-d2a6-d39803a46290"
      },
      "outputs": [
        {
          "data": {
            "text/plain": [
              "0"
            ]
          },
          "execution_count": 517,
          "metadata": {
            "tags": []
          },
          "output_type": "execute_result"
        }
      ],
      "source": [
        "(df['CapitalLoss']=='?').sum()"
      ]
    },
    {
      "cell_type": "code",
      "execution_count": 518,
      "metadata": {
        "colab": {
          "base_uri": "https://localhost:8080/"
        },
        "id": "OJhdjyBspuMO",
        "outputId": "3e090f50-8934-4eeb-e529-ca51c64fec67"
      },
      "outputs": [
        {
          "data": {
            "text/plain": [
              "0"
            ]
          },
          "execution_count": 518,
          "metadata": {
            "tags": []
          },
          "output_type": "execute_result"
        }
      ],
      "source": [
        "(df['HoursPerWeek']=='?').sum()"
      ]
    },
    {
      "cell_type": "code",
      "execution_count": 519,
      "metadata": {
        "colab": {
          "base_uri": "https://localhost:8080/"
        },
        "id": "OYNKFx5Ep090",
        "outputId": "2eca2ba0-444b-4625-9679-301e07fdbe63"
      },
      "outputs": [
        {
          "data": {
            "text/plain": [
              "255"
            ]
          },
          "execution_count": 519,
          "metadata": {
            "tags": []
          },
          "output_type": "execute_result"
        }
      ],
      "source": [
        "(df['NativeCountry']=='?').sum() "
      ]
    },
    {
      "cell_type": "code",
      "execution_count": 520,
      "metadata": {
        "colab": {
          "base_uri": "https://localhost:8080/"
        },
        "id": "rvkXtfUvp59N",
        "outputId": "934d05e8-6ed1-4e9b-9e72-6019216600ff"
      },
      "outputs": [
        {
          "data": {
            "text/plain": [
              "(15059, 15)"
            ]
          },
          "execution_count": 520,
          "metadata": {
            "tags": []
          },
          "output_type": "execute_result"
        }
      ],
      "source": [
        "df=df[df['NativeCountry'] != '?']\n",
        "df.shape"
      ]
    },
    {
      "cell_type": "code",
      "execution_count": 521,
      "metadata": {
        "colab": {
          "base_uri": "https://localhost:8080/"
        },
        "id": "S_rPdoM7qE53",
        "outputId": "25f0f0c5-244f-4474-8188-a87231894ecb"
      },
      "outputs": [
        {
          "name": "stdout",
          "output_type": "stream",
          "text": [
            "<=50K.    11359\n",
            ">50K.      3700\n",
            "Name: IncomeLevel, dtype: int64\n"
          ]
        }
      ],
      "source": [
        "# Checking if all items are now 0 or 1 after mapping\n",
        "print(df['IncomeLevel'].value_counts())"
      ]
    },
    {
      "cell_type": "code",
      "execution_count": 522,
      "metadata": {
        "colab": {
          "base_uri": "https://localhost:8080/"
        },
        "id": "0x-e3OMZOwI3",
        "outputId": "96b0161b-58ff-4891-b1c6-79127c5dfcbc"
      },
      "outputs": [
        {
          "data": {
            "text/plain": [
              "Age               int64\n",
              "WorkClass        object\n",
              "fnlwgt            int64\n",
              "Education        object\n",
              "EducationNum      int64\n",
              "MaritalStatus    object\n",
              "Occupation       object\n",
              "Relationship     object\n",
              "Race             object\n",
              "Sex              object\n",
              "CapitalGain       int64\n",
              "CapitalLoss       int64\n",
              "HoursPerWeek      int64\n",
              "NativeCountry    object\n",
              "IncomeLevel      object\n",
              "dtype: object"
            ]
          },
          "execution_count": 522,
          "metadata": {
            "tags": []
          },
          "output_type": "execute_result"
        }
      ],
      "source": [
        "df.dtypes"
      ]
    },
    {
      "cell_type": "code",
      "execution_count": 523,
      "metadata": {
        "colab": {
          "base_uri": "https://localhost:8080/",
          "height": 626
        },
        "id": "5_o0MXs0Ra-n",
        "outputId": "4c612420-6da1-4f59-b0e0-dc24f9b25003"
      },
      "outputs": [
        {
          "data": {
            "text/html": [
              "<div>\n",
              "<style scoped>\n",
              "    .dataframe tbody tr th:only-of-type {\n",
              "        vertical-align: middle;\n",
              "    }\n",
              "\n",
              "    .dataframe tbody tr th {\n",
              "        vertical-align: top;\n",
              "    }\n",
              "\n",
              "    .dataframe thead th {\n",
              "        text-align: right;\n",
              "    }\n",
              "</style>\n",
              "<table border=\"1\" class=\"dataframe\">\n",
              "  <thead>\n",
              "    <tr style=\"text-align: right;\">\n",
              "      <th></th>\n",
              "      <th>Age</th>\n",
              "      <th>WorkClass</th>\n",
              "      <th>fnlwgt</th>\n",
              "      <th>Education</th>\n",
              "      <th>EducationNum</th>\n",
              "      <th>MaritalStatus</th>\n",
              "      <th>Occupation</th>\n",
              "      <th>Relationship</th>\n",
              "      <th>Race</th>\n",
              "      <th>Sex</th>\n",
              "      <th>CapitalGain</th>\n",
              "      <th>CapitalLoss</th>\n",
              "      <th>HoursPerWeek</th>\n",
              "      <th>NativeCountry</th>\n",
              "      <th>IncomeLevel</th>\n",
              "    </tr>\n",
              "  </thead>\n",
              "  <tbody>\n",
              "    <tr>\n",
              "      <th>0</th>\n",
              "      <td>38</td>\n",
              "      <td>Private</td>\n",
              "      <td>89814</td>\n",
              "      <td>HS-grad</td>\n",
              "      <td>9</td>\n",
              "      <td>Married-civ-spouse</td>\n",
              "      <td>Farming-fishing</td>\n",
              "      <td>Husband</td>\n",
              "      <td>White</td>\n",
              "      <td>Male</td>\n",
              "      <td>0</td>\n",
              "      <td>0</td>\n",
              "      <td>50</td>\n",
              "      <td>United-States</td>\n",
              "      <td>&lt;=50K.</td>\n",
              "    </tr>\n",
              "    <tr>\n",
              "      <th>1</th>\n",
              "      <td>28</td>\n",
              "      <td>Local-gov</td>\n",
              "      <td>336951</td>\n",
              "      <td>Assoc-acdm</td>\n",
              "      <td>12</td>\n",
              "      <td>Married-civ-spouse</td>\n",
              "      <td>Protective-serv</td>\n",
              "      <td>Husband</td>\n",
              "      <td>White</td>\n",
              "      <td>Male</td>\n",
              "      <td>0</td>\n",
              "      <td>0</td>\n",
              "      <td>40</td>\n",
              "      <td>United-States</td>\n",
              "      <td>&gt;50K.</td>\n",
              "    </tr>\n",
              "    <tr>\n",
              "      <th>2</th>\n",
              "      <td>44</td>\n",
              "      <td>Private</td>\n",
              "      <td>160323</td>\n",
              "      <td>Some-college</td>\n",
              "      <td>10</td>\n",
              "      <td>Married-civ-spouse</td>\n",
              "      <td>Machine-op-inspct</td>\n",
              "      <td>Husband</td>\n",
              "      <td>Black</td>\n",
              "      <td>Male</td>\n",
              "      <td>7688</td>\n",
              "      <td>0</td>\n",
              "      <td>40</td>\n",
              "      <td>United-States</td>\n",
              "      <td>&gt;50K.</td>\n",
              "    </tr>\n",
              "    <tr>\n",
              "      <th>4</th>\n",
              "      <td>34</td>\n",
              "      <td>Private</td>\n",
              "      <td>198693</td>\n",
              "      <td>10th</td>\n",
              "      <td>6</td>\n",
              "      <td>Never-married</td>\n",
              "      <td>Other-service</td>\n",
              "      <td>Not-in-family</td>\n",
              "      <td>White</td>\n",
              "      <td>Male</td>\n",
              "      <td>0</td>\n",
              "      <td>0</td>\n",
              "      <td>30</td>\n",
              "      <td>United-States</td>\n",
              "      <td>&lt;=50K.</td>\n",
              "    </tr>\n",
              "    <tr>\n",
              "      <th>6</th>\n",
              "      <td>63</td>\n",
              "      <td>Self-emp-not-inc</td>\n",
              "      <td>104626</td>\n",
              "      <td>Prof-school</td>\n",
              "      <td>15</td>\n",
              "      <td>Married-civ-spouse</td>\n",
              "      <td>Prof-specialty</td>\n",
              "      <td>Husband</td>\n",
              "      <td>White</td>\n",
              "      <td>Male</td>\n",
              "      <td>3103</td>\n",
              "      <td>0</td>\n",
              "      <td>32</td>\n",
              "      <td>United-States</td>\n",
              "      <td>&gt;50K.</td>\n",
              "    </tr>\n",
              "    <tr>\n",
              "      <th>...</th>\n",
              "      <td>...</td>\n",
              "      <td>...</td>\n",
              "      <td>...</td>\n",
              "      <td>...</td>\n",
              "      <td>...</td>\n",
              "      <td>...</td>\n",
              "      <td>...</td>\n",
              "      <td>...</td>\n",
              "      <td>...</td>\n",
              "      <td>...</td>\n",
              "      <td>...</td>\n",
              "      <td>...</td>\n",
              "      <td>...</td>\n",
              "      <td>...</td>\n",
              "      <td>...</td>\n",
              "    </tr>\n",
              "    <tr>\n",
              "      <th>16274</th>\n",
              "      <td>33</td>\n",
              "      <td>Private</td>\n",
              "      <td>245211</td>\n",
              "      <td>Bachelors</td>\n",
              "      <td>13</td>\n",
              "      <td>Never-married</td>\n",
              "      <td>Prof-specialty</td>\n",
              "      <td>Own-child</td>\n",
              "      <td>White</td>\n",
              "      <td>Male</td>\n",
              "      <td>0</td>\n",
              "      <td>0</td>\n",
              "      <td>40</td>\n",
              "      <td>United-States</td>\n",
              "      <td>&lt;=50K.</td>\n",
              "    </tr>\n",
              "    <tr>\n",
              "      <th>16275</th>\n",
              "      <td>39</td>\n",
              "      <td>Private</td>\n",
              "      <td>215419</td>\n",
              "      <td>Bachelors</td>\n",
              "      <td>13</td>\n",
              "      <td>Divorced</td>\n",
              "      <td>Prof-specialty</td>\n",
              "      <td>Not-in-family</td>\n",
              "      <td>White</td>\n",
              "      <td>Female</td>\n",
              "      <td>0</td>\n",
              "      <td>0</td>\n",
              "      <td>36</td>\n",
              "      <td>United-States</td>\n",
              "      <td>&lt;=50K.</td>\n",
              "    </tr>\n",
              "    <tr>\n",
              "      <th>16277</th>\n",
              "      <td>38</td>\n",
              "      <td>Private</td>\n",
              "      <td>374983</td>\n",
              "      <td>Bachelors</td>\n",
              "      <td>13</td>\n",
              "      <td>Married-civ-spouse</td>\n",
              "      <td>Prof-specialty</td>\n",
              "      <td>Husband</td>\n",
              "      <td>White</td>\n",
              "      <td>Male</td>\n",
              "      <td>0</td>\n",
              "      <td>0</td>\n",
              "      <td>50</td>\n",
              "      <td>United-States</td>\n",
              "      <td>&lt;=50K.</td>\n",
              "    </tr>\n",
              "    <tr>\n",
              "      <th>16278</th>\n",
              "      <td>44</td>\n",
              "      <td>Private</td>\n",
              "      <td>83891</td>\n",
              "      <td>Bachelors</td>\n",
              "      <td>13</td>\n",
              "      <td>Divorced</td>\n",
              "      <td>Adm-clerical</td>\n",
              "      <td>Own-child</td>\n",
              "      <td>Asian-Pac-Islander</td>\n",
              "      <td>Male</td>\n",
              "      <td>5455</td>\n",
              "      <td>0</td>\n",
              "      <td>40</td>\n",
              "      <td>United-States</td>\n",
              "      <td>&lt;=50K.</td>\n",
              "    </tr>\n",
              "    <tr>\n",
              "      <th>16279</th>\n",
              "      <td>35</td>\n",
              "      <td>Self-emp-inc</td>\n",
              "      <td>182148</td>\n",
              "      <td>Bachelors</td>\n",
              "      <td>13</td>\n",
              "      <td>Married-civ-spouse</td>\n",
              "      <td>Exec-managerial</td>\n",
              "      <td>Husband</td>\n",
              "      <td>White</td>\n",
              "      <td>Male</td>\n",
              "      <td>0</td>\n",
              "      <td>0</td>\n",
              "      <td>60</td>\n",
              "      <td>United-States</td>\n",
              "      <td>&gt;50K.</td>\n",
              "    </tr>\n",
              "  </tbody>\n",
              "</table>\n",
              "<p>15059 rows × 15 columns</p>\n",
              "</div>"
            ],
            "text/plain": [
              "       Age         WorkClass  fnlwgt  ... HoursPerWeek  NativeCountry IncomeLevel\n",
              "0       38           Private   89814  ...           50  United-States      <=50K.\n",
              "1       28         Local-gov  336951  ...           40  United-States       >50K.\n",
              "2       44           Private  160323  ...           40  United-States       >50K.\n",
              "4       34           Private  198693  ...           30  United-States      <=50K.\n",
              "6       63  Self-emp-not-inc  104626  ...           32  United-States       >50K.\n",
              "...    ...               ...     ...  ...          ...            ...         ...\n",
              "16274   33           Private  245211  ...           40  United-States      <=50K.\n",
              "16275   39           Private  215419  ...           36  United-States      <=50K.\n",
              "16277   38           Private  374983  ...           50  United-States      <=50K.\n",
              "16278   44           Private   83891  ...           40  United-States      <=50K.\n",
              "16279   35      Self-emp-inc  182148  ...           60  United-States       >50K.\n",
              "\n",
              "[15059 rows x 15 columns]"
            ]
          },
          "execution_count": 523,
          "metadata": {
            "tags": []
          },
          "output_type": "execute_result"
        }
      ],
      "source": [
        "\n",
        "df"
      ]
    },
    {
      "cell_type": "code",
      "execution_count": 524,
      "metadata": {
        "colab": {
          "base_uri": "https://localhost:8080/"
        },
        "id": "NrSMRCYVTkAt",
        "outputId": "39e82022-99e2-4b46-9a03-99e3ce426d7d"
      },
      "outputs": [
        {
          "data": {
            "text/plain": [
              "Age              int64\n",
              "WorkClass        int64\n",
              "fnlwgt           int64\n",
              "Education        int64\n",
              "EducationNum     int64\n",
              "MaritalStatus    int64\n",
              "Occupation       int64\n",
              "Relationship     int64\n",
              "Race             int64\n",
              "Sex              int64\n",
              "CapitalGain      int64\n",
              "CapitalLoss      int64\n",
              "HoursPerWeek     int64\n",
              "NativeCountry    int64\n",
              "IncomeLevel      int64\n",
              "dtype: object"
            ]
          },
          "execution_count": 524,
          "metadata": {
            "tags": []
          },
          "output_type": "execute_result"
        }
      ],
      "source": [
        "#converting categorical variables to numeric using LabelEncoder\n",
        "from sklearn.preprocessing import LabelEncoder\n",
        "objLEncoder = LabelEncoder()\n",
        "encodedDF = df;\n",
        "encodedDF.WorkClass = objLEncoder.fit_transform(df.WorkClass)\n",
        "encodedDF.Education = objLEncoder.fit_transform(df.Education)\n",
        "encodedDF.MaritalStatus = objLEncoder.fit_transform(df.MaritalStatus)\n",
        "encodedDF.Occupation = objLEncoder.fit_transform(df.Occupation)\n",
        "encodedDF.Relationship = objLEncoder.fit_transform(df.Relationship)\n",
        "encodedDF.Race = objLEncoder.fit_transform(df.Race)\n",
        "encodedDF.Sex = objLEncoder.fit_transform(df.Sex)\n",
        "encodedDF.NativeCountry = objLEncoder.fit_transform(df.NativeCountry)\n",
        "encodedDF.IncomeLevel = objLEncoder.fit_transform(df.IncomeLevel)\n",
        "encodedDF.dtypes\n"
      ]
    },
    {
      "cell_type": "code",
      "execution_count": 525,
      "metadata": {
        "colab": {
          "base_uri": "https://localhost:8080/",
          "height": 439
        },
        "id": "87vVIIYtvDEC",
        "outputId": "082eecab-a648-4de2-d00a-9accf6e5c3bb"
      },
      "outputs": [
        {
          "data": {
            "text/html": [
              "<div>\n",
              "<style scoped>\n",
              "    .dataframe tbody tr th:only-of-type {\n",
              "        vertical-align: middle;\n",
              "    }\n",
              "\n",
              "    .dataframe tbody tr th {\n",
              "        vertical-align: top;\n",
              "    }\n",
              "\n",
              "    .dataframe thead th {\n",
              "        text-align: right;\n",
              "    }\n",
              "</style>\n",
              "<table border=\"1\" class=\"dataframe\">\n",
              "  <thead>\n",
              "    <tr style=\"text-align: right;\">\n",
              "      <th></th>\n",
              "      <th>Age</th>\n",
              "      <th>WorkClass</th>\n",
              "      <th>fnlwgt</th>\n",
              "      <th>Education</th>\n",
              "      <th>EducationNum</th>\n",
              "      <th>MaritalStatus</th>\n",
              "      <th>Occupation</th>\n",
              "      <th>Relationship</th>\n",
              "      <th>Race</th>\n",
              "      <th>Sex</th>\n",
              "      <th>CapitalGain</th>\n",
              "      <th>CapitalLoss</th>\n",
              "      <th>HoursPerWeek</th>\n",
              "      <th>NativeCountry</th>\n",
              "      <th>IncomeLevel</th>\n",
              "    </tr>\n",
              "  </thead>\n",
              "  <tbody>\n",
              "    <tr>\n",
              "      <th>0</th>\n",
              "      <td>38</td>\n",
              "      <td>2</td>\n",
              "      <td>89814</td>\n",
              "      <td>11</td>\n",
              "      <td>9</td>\n",
              "      <td>2</td>\n",
              "      <td>4</td>\n",
              "      <td>0</td>\n",
              "      <td>4</td>\n",
              "      <td>1</td>\n",
              "      <td>0</td>\n",
              "      <td>0</td>\n",
              "      <td>50</td>\n",
              "      <td>37</td>\n",
              "      <td>0</td>\n",
              "    </tr>\n",
              "    <tr>\n",
              "      <th>1</th>\n",
              "      <td>28</td>\n",
              "      <td>1</td>\n",
              "      <td>336951</td>\n",
              "      <td>7</td>\n",
              "      <td>12</td>\n",
              "      <td>2</td>\n",
              "      <td>10</td>\n",
              "      <td>0</td>\n",
              "      <td>4</td>\n",
              "      <td>1</td>\n",
              "      <td>0</td>\n",
              "      <td>0</td>\n",
              "      <td>40</td>\n",
              "      <td>37</td>\n",
              "      <td>1</td>\n",
              "    </tr>\n",
              "    <tr>\n",
              "      <th>2</th>\n",
              "      <td>44</td>\n",
              "      <td>2</td>\n",
              "      <td>160323</td>\n",
              "      <td>15</td>\n",
              "      <td>10</td>\n",
              "      <td>2</td>\n",
              "      <td>6</td>\n",
              "      <td>0</td>\n",
              "      <td>2</td>\n",
              "      <td>1</td>\n",
              "      <td>7688</td>\n",
              "      <td>0</td>\n",
              "      <td>40</td>\n",
              "      <td>37</td>\n",
              "      <td>1</td>\n",
              "    </tr>\n",
              "    <tr>\n",
              "      <th>4</th>\n",
              "      <td>34</td>\n",
              "      <td>2</td>\n",
              "      <td>198693</td>\n",
              "      <td>0</td>\n",
              "      <td>6</td>\n",
              "      <td>4</td>\n",
              "      <td>7</td>\n",
              "      <td>1</td>\n",
              "      <td>4</td>\n",
              "      <td>1</td>\n",
              "      <td>0</td>\n",
              "      <td>0</td>\n",
              "      <td>30</td>\n",
              "      <td>37</td>\n",
              "      <td>0</td>\n",
              "    </tr>\n",
              "    <tr>\n",
              "      <th>6</th>\n",
              "      <td>63</td>\n",
              "      <td>4</td>\n",
              "      <td>104626</td>\n",
              "      <td>14</td>\n",
              "      <td>15</td>\n",
              "      <td>2</td>\n",
              "      <td>9</td>\n",
              "      <td>0</td>\n",
              "      <td>4</td>\n",
              "      <td>1</td>\n",
              "      <td>3103</td>\n",
              "      <td>0</td>\n",
              "      <td>32</td>\n",
              "      <td>37</td>\n",
              "      <td>1</td>\n",
              "    </tr>\n",
              "    <tr>\n",
              "      <th>...</th>\n",
              "      <td>...</td>\n",
              "      <td>...</td>\n",
              "      <td>...</td>\n",
              "      <td>...</td>\n",
              "      <td>...</td>\n",
              "      <td>...</td>\n",
              "      <td>...</td>\n",
              "      <td>...</td>\n",
              "      <td>...</td>\n",
              "      <td>...</td>\n",
              "      <td>...</td>\n",
              "      <td>...</td>\n",
              "      <td>...</td>\n",
              "      <td>...</td>\n",
              "      <td>...</td>\n",
              "    </tr>\n",
              "    <tr>\n",
              "      <th>16274</th>\n",
              "      <td>33</td>\n",
              "      <td>2</td>\n",
              "      <td>245211</td>\n",
              "      <td>9</td>\n",
              "      <td>13</td>\n",
              "      <td>4</td>\n",
              "      <td>9</td>\n",
              "      <td>3</td>\n",
              "      <td>4</td>\n",
              "      <td>1</td>\n",
              "      <td>0</td>\n",
              "      <td>0</td>\n",
              "      <td>40</td>\n",
              "      <td>37</td>\n",
              "      <td>0</td>\n",
              "    </tr>\n",
              "    <tr>\n",
              "      <th>16275</th>\n",
              "      <td>39</td>\n",
              "      <td>2</td>\n",
              "      <td>215419</td>\n",
              "      <td>9</td>\n",
              "      <td>13</td>\n",
              "      <td>0</td>\n",
              "      <td>9</td>\n",
              "      <td>1</td>\n",
              "      <td>4</td>\n",
              "      <td>0</td>\n",
              "      <td>0</td>\n",
              "      <td>0</td>\n",
              "      <td>36</td>\n",
              "      <td>37</td>\n",
              "      <td>0</td>\n",
              "    </tr>\n",
              "    <tr>\n",
              "      <th>16277</th>\n",
              "      <td>38</td>\n",
              "      <td>2</td>\n",
              "      <td>374983</td>\n",
              "      <td>9</td>\n",
              "      <td>13</td>\n",
              "      <td>2</td>\n",
              "      <td>9</td>\n",
              "      <td>0</td>\n",
              "      <td>4</td>\n",
              "      <td>1</td>\n",
              "      <td>0</td>\n",
              "      <td>0</td>\n",
              "      <td>50</td>\n",
              "      <td>37</td>\n",
              "      <td>0</td>\n",
              "    </tr>\n",
              "    <tr>\n",
              "      <th>16278</th>\n",
              "      <td>44</td>\n",
              "      <td>2</td>\n",
              "      <td>83891</td>\n",
              "      <td>9</td>\n",
              "      <td>13</td>\n",
              "      <td>0</td>\n",
              "      <td>0</td>\n",
              "      <td>3</td>\n",
              "      <td>1</td>\n",
              "      <td>1</td>\n",
              "      <td>5455</td>\n",
              "      <td>0</td>\n",
              "      <td>40</td>\n",
              "      <td>37</td>\n",
              "      <td>0</td>\n",
              "    </tr>\n",
              "    <tr>\n",
              "      <th>16279</th>\n",
              "      <td>35</td>\n",
              "      <td>3</td>\n",
              "      <td>182148</td>\n",
              "      <td>9</td>\n",
              "      <td>13</td>\n",
              "      <td>2</td>\n",
              "      <td>3</td>\n",
              "      <td>0</td>\n",
              "      <td>4</td>\n",
              "      <td>1</td>\n",
              "      <td>0</td>\n",
              "      <td>0</td>\n",
              "      <td>60</td>\n",
              "      <td>37</td>\n",
              "      <td>1</td>\n",
              "    </tr>\n",
              "  </tbody>\n",
              "</table>\n",
              "<p>15059 rows × 15 columns</p>\n",
              "</div>"
            ],
            "text/plain": [
              "       Age  WorkClass  fnlwgt  ...  HoursPerWeek  NativeCountry  IncomeLevel\n",
              "0       38          2   89814  ...            50             37            0\n",
              "1       28          1  336951  ...            40             37            1\n",
              "2       44          2  160323  ...            40             37            1\n",
              "4       34          2  198693  ...            30             37            0\n",
              "6       63          4  104626  ...            32             37            1\n",
              "...    ...        ...     ...  ...           ...            ...          ...\n",
              "16274   33          2  245211  ...            40             37            0\n",
              "16275   39          2  215419  ...            36             37            0\n",
              "16277   38          2  374983  ...            50             37            0\n",
              "16278   44          2   83891  ...            40             37            0\n",
              "16279   35          3  182148  ...            60             37            1\n",
              "\n",
              "[15059 rows x 15 columns]"
            ]
          },
          "execution_count": 525,
          "metadata": {
            "tags": []
          },
          "output_type": "execute_result"
        }
      ],
      "source": [
        "encodedDF"
      ]
    },
    {
      "cell_type": "code",
      "execution_count": 526,
      "metadata": {
        "colab": {
          "base_uri": "https://localhost:8080/",
          "height": 317
        },
        "id": "WRahDJEuZo40",
        "outputId": "737d4b64-a5ad-4db7-dfcf-32ee778689dc"
      },
      "outputs": [
        {
          "data": {
            "text/html": [
              "<div>\n",
              "<style scoped>\n",
              "    .dataframe tbody tr th:only-of-type {\n",
              "        vertical-align: middle;\n",
              "    }\n",
              "\n",
              "    .dataframe tbody tr th {\n",
              "        vertical-align: top;\n",
              "    }\n",
              "\n",
              "    .dataframe thead th {\n",
              "        text-align: right;\n",
              "    }\n",
              "</style>\n",
              "<table border=\"1\" class=\"dataframe\">\n",
              "  <thead>\n",
              "    <tr style=\"text-align: right;\">\n",
              "      <th></th>\n",
              "      <th>Age</th>\n",
              "      <th>WorkClass</th>\n",
              "      <th>fnlwgt</th>\n",
              "      <th>Education</th>\n",
              "      <th>EducationNum</th>\n",
              "      <th>MaritalStatus</th>\n",
              "      <th>Occupation</th>\n",
              "      <th>Relationship</th>\n",
              "      <th>Race</th>\n",
              "      <th>Sex</th>\n",
              "      <th>CapitalGain</th>\n",
              "      <th>CapitalLoss</th>\n",
              "      <th>HoursPerWeek</th>\n",
              "      <th>NativeCountry</th>\n",
              "      <th>IncomeLevel</th>\n",
              "    </tr>\n",
              "  </thead>\n",
              "  <tbody>\n",
              "    <tr>\n",
              "      <th>count</th>\n",
              "      <td>15059.000000</td>\n",
              "      <td>15059.000000</td>\n",
              "      <td>1.505900e+04</td>\n",
              "      <td>15059.000000</td>\n",
              "      <td>15059.000000</td>\n",
              "      <td>15059.000000</td>\n",
              "      <td>15059.000000</td>\n",
              "      <td>15059.000000</td>\n",
              "      <td>15059.000000</td>\n",
              "      <td>15059.000000</td>\n",
              "      <td>15059.000000</td>\n",
              "      <td>15059.000000</td>\n",
              "      <td>15059.000000</td>\n",
              "      <td>15059.000000</td>\n",
              "      <td>15059.000000</td>\n",
              "    </tr>\n",
              "    <tr>\n",
              "      <th>mean</th>\n",
              "      <td>38.769241</td>\n",
              "      <td>2.214888</td>\n",
              "      <td>1.896139e+05</td>\n",
              "      <td>10.272993</td>\n",
              "      <td>10.112956</td>\n",
              "      <td>2.595192</td>\n",
              "      <td>5.989043</td>\n",
              "      <td>1.401288</td>\n",
              "      <td>3.683777</td>\n",
              "      <td>0.673750</td>\n",
              "      <td>1120.375988</td>\n",
              "      <td>89.047812</td>\n",
              "      <td>40.951657</td>\n",
              "      <td>35.467495</td>\n",
              "      <td>0.245700</td>\n",
              "    </tr>\n",
              "    <tr>\n",
              "      <th>std</th>\n",
              "      <td>13.380649</td>\n",
              "      <td>0.966452</td>\n",
              "      <td>1.056181e+05</td>\n",
              "      <td>3.825632</td>\n",
              "      <td>2.558686</td>\n",
              "      <td>1.505343</td>\n",
              "      <td>4.020247</td>\n",
              "      <td>1.588953</td>\n",
              "      <td>0.827544</td>\n",
              "      <td>0.468856</td>\n",
              "      <td>7703.432212</td>\n",
              "      <td>406.296088</td>\n",
              "      <td>12.063229</td>\n",
              "      <td>5.881104</td>\n",
              "      <td>0.430516</td>\n",
              "    </tr>\n",
              "    <tr>\n",
              "      <th>min</th>\n",
              "      <td>17.000000</td>\n",
              "      <td>0.000000</td>\n",
              "      <td>1.349200e+04</td>\n",
              "      <td>0.000000</td>\n",
              "      <td>1.000000</td>\n",
              "      <td>0.000000</td>\n",
              "      <td>0.000000</td>\n",
              "      <td>0.000000</td>\n",
              "      <td>0.000000</td>\n",
              "      <td>0.000000</td>\n",
              "      <td>0.000000</td>\n",
              "      <td>0.000000</td>\n",
              "      <td>1.000000</td>\n",
              "      <td>0.000000</td>\n",
              "      <td>0.000000</td>\n",
              "    </tr>\n",
              "    <tr>\n",
              "      <th>25%</th>\n",
              "      <td>28.000000</td>\n",
              "      <td>2.000000</td>\n",
              "      <td>1.166530e+05</td>\n",
              "      <td>9.000000</td>\n",
              "      <td>9.000000</td>\n",
              "      <td>2.000000</td>\n",
              "      <td>2.000000</td>\n",
              "      <td>0.000000</td>\n",
              "      <td>4.000000</td>\n",
              "      <td>0.000000</td>\n",
              "      <td>0.000000</td>\n",
              "      <td>0.000000</td>\n",
              "      <td>40.000000</td>\n",
              "      <td>37.000000</td>\n",
              "      <td>0.000000</td>\n",
              "    </tr>\n",
              "    <tr>\n",
              "      <th>50%</th>\n",
              "      <td>37.000000</td>\n",
              "      <td>2.000000</td>\n",
              "      <td>1.779550e+05</td>\n",
              "      <td>11.000000</td>\n",
              "      <td>10.000000</td>\n",
              "      <td>2.000000</td>\n",
              "      <td>6.000000</td>\n",
              "      <td>1.000000</td>\n",
              "      <td>4.000000</td>\n",
              "      <td>1.000000</td>\n",
              "      <td>0.000000</td>\n",
              "      <td>0.000000</td>\n",
              "      <td>40.000000</td>\n",
              "      <td>37.000000</td>\n",
              "      <td>0.000000</td>\n",
              "    </tr>\n",
              "    <tr>\n",
              "      <th>75%</th>\n",
              "      <td>48.000000</td>\n",
              "      <td>2.000000</td>\n",
              "      <td>2.385895e+05</td>\n",
              "      <td>12.000000</td>\n",
              "      <td>13.000000</td>\n",
              "      <td>4.000000</td>\n",
              "      <td>9.000000</td>\n",
              "      <td>3.000000</td>\n",
              "      <td>4.000000</td>\n",
              "      <td>1.000000</td>\n",
              "      <td>0.000000</td>\n",
              "      <td>0.000000</td>\n",
              "      <td>45.000000</td>\n",
              "      <td>37.000000</td>\n",
              "      <td>0.000000</td>\n",
              "    </tr>\n",
              "    <tr>\n",
              "      <th>max</th>\n",
              "      <td>90.000000</td>\n",
              "      <td>6.000000</td>\n",
              "      <td>1.490400e+06</td>\n",
              "      <td>15.000000</td>\n",
              "      <td>16.000000</td>\n",
              "      <td>6.000000</td>\n",
              "      <td>13.000000</td>\n",
              "      <td>5.000000</td>\n",
              "      <td>4.000000</td>\n",
              "      <td>1.000000</td>\n",
              "      <td>99999.000000</td>\n",
              "      <td>3770.000000</td>\n",
              "      <td>99.000000</td>\n",
              "      <td>39.000000</td>\n",
              "      <td>1.000000</td>\n",
              "    </tr>\n",
              "  </tbody>\n",
              "</table>\n",
              "</div>"
            ],
            "text/plain": [
              "                Age     WorkClass  ...  NativeCountry   IncomeLevel\n",
              "count  15059.000000  15059.000000  ...   15059.000000  15059.000000\n",
              "mean      38.769241      2.214888  ...      35.467495      0.245700\n",
              "std       13.380649      0.966452  ...       5.881104      0.430516\n",
              "min       17.000000      0.000000  ...       0.000000      0.000000\n",
              "25%       28.000000      2.000000  ...      37.000000      0.000000\n",
              "50%       37.000000      2.000000  ...      37.000000      0.000000\n",
              "75%       48.000000      2.000000  ...      37.000000      0.000000\n",
              "max       90.000000      6.000000  ...      39.000000      1.000000\n",
              "\n",
              "[8 rows x 15 columns]"
            ]
          },
          "execution_count": 526,
          "metadata": {
            "tags": []
          },
          "output_type": "execute_result"
        }
      ],
      "source": [
        "encodedDF.describe()"
      ]
    },
    {
      "cell_type": "code",
      "execution_count": 527,
      "metadata": {
        "id": "L6L3c6CaZ_yu"
      },
      "outputs": [],
      "source": [
        "X = encodedDF[['Age', 'WorkClass', 'Education', 'EducationNum', 'MaritalStatus', 'Occupation', 'Relationship',\n",
        "            'Race', 'Sex', 'CapitalGain', 'CapitalLoss', 'HoursPerWeek', 'NativeCountry']]\n",
        "Y = encodedDF['IncomeLevel']\n",
        "from sklearn.model_selection import train_test_split\n",
        "X_train, X_test, Y_train, Y_test = train_test_split(X, Y) #default: 75% training, 25% test"
      ]
    },
    {
      "cell_type": "code",
      "execution_count": 528,
      "metadata": {
        "id": "WkOo_cCLdHlg"
      },
      "outputs": [],
      "source": [
        "# Performing standardization \n",
        "from sklearn.preprocessing import StandardScaler\n",
        "scaler = StandardScaler()\n",
        "scalar.fit(X_train)\n",
        "X_train = scalar.transform(X_train)\n",
        "X_test = scalar.transform(X_test)"
      ]
    },
    {
      "cell_type": "code",
      "execution_count": 529,
      "metadata": {
        "colab": {
          "base_uri": "https://localhost:8080/",
          "height": 317
        },
        "id": "WElULw9rbrVV",
        "outputId": "a4a0c7d2-94d8-4976-ef61-087c945bcef0"
      },
      "outputs": [
        {
          "data": {
            "text/html": [
              "<div>\n",
              "<style scoped>\n",
              "    .dataframe tbody tr th:only-of-type {\n",
              "        vertical-align: middle;\n",
              "    }\n",
              "\n",
              "    .dataframe tbody tr th {\n",
              "        vertical-align: top;\n",
              "    }\n",
              "\n",
              "    .dataframe thead th {\n",
              "        text-align: right;\n",
              "    }\n",
              "</style>\n",
              "<table border=\"1\" class=\"dataframe\">\n",
              "  <thead>\n",
              "    <tr style=\"text-align: right;\">\n",
              "      <th></th>\n",
              "      <th>Age</th>\n",
              "      <th>WorkClass</th>\n",
              "      <th>Education</th>\n",
              "      <th>EducationNum</th>\n",
              "      <th>MaritalStatus</th>\n",
              "      <th>Occupation</th>\n",
              "      <th>Relationship</th>\n",
              "      <th>Race</th>\n",
              "      <th>Sex</th>\n",
              "      <th>CapitalGain</th>\n",
              "      <th>CapitalLoss</th>\n",
              "      <th>HoursPerWeek</th>\n",
              "      <th>NativeCountry</th>\n",
              "    </tr>\n",
              "  </thead>\n",
              "  <tbody>\n",
              "    <tr>\n",
              "      <th>count</th>\n",
              "      <td>1.129400e+04</td>\n",
              "      <td>1.129400e+04</td>\n",
              "      <td>1.129400e+04</td>\n",
              "      <td>1.129400e+04</td>\n",
              "      <td>1.129400e+04</td>\n",
              "      <td>1.129400e+04</td>\n",
              "      <td>1.129400e+04</td>\n",
              "      <td>1.129400e+04</td>\n",
              "      <td>1.129400e+04</td>\n",
              "      <td>1.129400e+04</td>\n",
              "      <td>1.129400e+04</td>\n",
              "      <td>1.129400e+04</td>\n",
              "      <td>1.129400e+04</td>\n",
              "    </tr>\n",
              "    <tr>\n",
              "      <th>mean</th>\n",
              "      <td>-1.211671e-16</td>\n",
              "      <td>-1.072337e-15</td>\n",
              "      <td>-7.165234e-17</td>\n",
              "      <td>-4.441285e-17</td>\n",
              "      <td>2.242859e-16</td>\n",
              "      <td>-8.831454e-17</td>\n",
              "      <td>1.372984e-16</td>\n",
              "      <td>-1.099842e-15</td>\n",
              "      <td>2.363299e-15</td>\n",
              "      <td>-2.123191e-15</td>\n",
              "      <td>5.680775e-16</td>\n",
              "      <td>-9.054599e-16</td>\n",
              "      <td>4.019373e-16</td>\n",
              "    </tr>\n",
              "    <tr>\n",
              "      <th>std</th>\n",
              "      <td>1.000044e+00</td>\n",
              "      <td>1.000044e+00</td>\n",
              "      <td>1.000044e+00</td>\n",
              "      <td>1.000044e+00</td>\n",
              "      <td>1.000044e+00</td>\n",
              "      <td>1.000044e+00</td>\n",
              "      <td>1.000044e+00</td>\n",
              "      <td>1.000044e+00</td>\n",
              "      <td>1.000044e+00</td>\n",
              "      <td>1.000044e+00</td>\n",
              "      <td>1.000044e+00</td>\n",
              "      <td>1.000044e+00</td>\n",
              "      <td>1.000044e+00</td>\n",
              "    </tr>\n",
              "    <tr>\n",
              "      <th>min</th>\n",
              "      <td>-1.623519e+00</td>\n",
              "      <td>-2.277515e+00</td>\n",
              "      <td>-2.670140e+00</td>\n",
              "      <td>-3.566955e+00</td>\n",
              "      <td>-1.720214e+00</td>\n",
              "      <td>-1.490675e+00</td>\n",
              "      <td>-8.862290e-01</td>\n",
              "      <td>-4.460048e+00</td>\n",
              "      <td>-1.426035e+00</td>\n",
              "      <td>-1.476345e-01</td>\n",
              "      <td>-2.177912e-01</td>\n",
              "      <td>-3.311941e+00</td>\n",
              "      <td>-6.023993e+00</td>\n",
              "    </tr>\n",
              "    <tr>\n",
              "      <th>25%</th>\n",
              "      <td>-8.058856e-01</td>\n",
              "      <td>-2.215439e-01</td>\n",
              "      <td>-3.308706e-01</td>\n",
              "      <td>-4.364581e-01</td>\n",
              "      <td>-3.961879e-01</td>\n",
              "      <td>-9.932990e-01</td>\n",
              "      <td>-8.862290e-01</td>\n",
              "      <td>3.832761e-01</td>\n",
              "      <td>-1.426035e+00</td>\n",
              "      <td>-1.476345e-01</td>\n",
              "      <td>-2.177912e-01</td>\n",
              "      <td>-7.472985e-02</td>\n",
              "      <td>2.605697e-01</td>\n",
              "    </tr>\n",
              "    <tr>\n",
              "      <th>50%</th>\n",
              "      <td>-1.369128e-01</td>\n",
              "      <td>-2.215439e-01</td>\n",
              "      <td>1.889670e-01</td>\n",
              "      <td>-4.514606e-02</td>\n",
              "      <td>-3.961879e-01</td>\n",
              "      <td>1.453286e-03</td>\n",
              "      <td>-2.575975e-01</td>\n",
              "      <td>3.832761e-01</td>\n",
              "      <td>7.012452e-01</td>\n",
              "      <td>-1.476345e-01</td>\n",
              "      <td>-2.177912e-01</td>\n",
              "      <td>-7.472985e-02</td>\n",
              "      <td>2.605697e-01</td>\n",
              "    </tr>\n",
              "    <tr>\n",
              "      <th>75%</th>\n",
              "      <td>6.807206e-01</td>\n",
              "      <td>-2.215439e-01</td>\n",
              "      <td>4.488858e-01</td>\n",
              "      <td>1.128790e+00</td>\n",
              "      <td>9.278382e-01</td>\n",
              "      <td>7.475175e-01</td>\n",
              "      <td>9.996654e-01</td>\n",
              "      <td>3.832761e-01</td>\n",
              "      <td>7.012452e-01</td>\n",
              "      <td>-1.476345e-01</td>\n",
              "      <td>-2.177912e-01</td>\n",
              "      <td>3.402972e-01</td>\n",
              "      <td>2.605697e-01</td>\n",
              "    </tr>\n",
              "    <tr>\n",
              "      <th>max</th>\n",
              "      <td>3.802593e+00</td>\n",
              "      <td>3.890398e+00</td>\n",
              "      <td>1.228642e+00</td>\n",
              "      <td>2.302726e+00</td>\n",
              "      <td>2.251864e+00</td>\n",
              "      <td>1.742270e+00</td>\n",
              "      <td>2.256928e+00</td>\n",
              "      <td>3.832761e-01</td>\n",
              "      <td>7.012452e-01</td>\n",
              "      <td>1.269102e+01</td>\n",
              "      <td>9.133385e+00</td>\n",
              "      <td>4.822589e+00</td>\n",
              "      <td>6.002758e-01</td>\n",
              "    </tr>\n",
              "  </tbody>\n",
              "</table>\n",
              "</div>"
            ],
            "text/plain": [
              "                Age     WorkClass  ...  HoursPerWeek  NativeCountry\n",
              "count  1.129400e+04  1.129400e+04  ...  1.129400e+04   1.129400e+04\n",
              "mean  -1.211671e-16 -1.072337e-15  ... -9.054599e-16   4.019373e-16\n",
              "std    1.000044e+00  1.000044e+00  ...  1.000044e+00   1.000044e+00\n",
              "min   -1.623519e+00 -2.277515e+00  ... -3.311941e+00  -6.023993e+00\n",
              "25%   -8.058856e-01 -2.215439e-01  ... -7.472985e-02   2.605697e-01\n",
              "50%   -1.369128e-01 -2.215439e-01  ... -7.472985e-02   2.605697e-01\n",
              "75%    6.807206e-01 -2.215439e-01  ...  3.402972e-01   2.605697e-01\n",
              "max    3.802593e+00  3.890398e+00  ...  4.822589e+00   6.002758e-01\n",
              "\n",
              "[8 rows x 13 columns]"
            ]
          },
          "execution_count": 529,
          "metadata": {
            "tags": []
          },
          "output_type": "execute_result"
        }
      ],
      "source": [
        "#Checking that standardization was performed\n",
        "temp = pandas.DataFrame(X_train, columns= ['Age', 'WorkClass', 'Education', 'EducationNum', 'MaritalStatus', 'Occupation', 'Relationship',\n",
        "            'Race', 'Sex', 'CapitalGain', 'CapitalLoss', 'HoursPerWeek', 'NativeCountry'])\n",
        "temp.describe()"
      ]
    },
    {
      "cell_type": "code",
      "execution_count": 530,
      "metadata": {
        "colab": {
          "base_uri": "https://localhost:8080/"
        },
        "id": "gs7uDgtKcJC1",
        "outputId": "db7cdf3b-25ba-4ad9-a099-9bcea5a53380"
      },
      "outputs": [
        {
          "name": "stdout",
          "output_type": "stream",
          "text": [
            "Iteration 1, loss = 0.56552213\n",
            "Iteration 2, loss = 0.44606999\n",
            "Iteration 3, loss = 0.41394422\n",
            "Iteration 4, loss = 0.39570823\n",
            "Iteration 5, loss = 0.38530512\n",
            "Iteration 6, loss = 0.37499690\n",
            "Iteration 7, loss = 0.36569643\n",
            "Iteration 8, loss = 0.35657531\n",
            "Iteration 9, loss = 0.34938107\n",
            "Iteration 10, loss = 0.34410600\n",
            "Iteration 11, loss = 0.34122435\n",
            "Iteration 12, loss = 0.33803971\n",
            "Iteration 13, loss = 0.33722363\n",
            "Iteration 14, loss = 0.33476591\n",
            "Iteration 15, loss = 0.33318972\n",
            "Iteration 16, loss = 0.33117229\n",
            "Iteration 17, loss = 0.33384287\n",
            "Iteration 18, loss = 0.33091365\n",
            "Iteration 19, loss = 0.32885479\n",
            "Iteration 20, loss = 0.32831833\n",
            "Iteration 21, loss = 0.32651675\n",
            "Iteration 22, loss = 0.32587319\n",
            "Iteration 23, loss = 0.32741622\n",
            "Iteration 24, loss = 0.32565122\n",
            "Iteration 25, loss = 0.32607364\n",
            "Iteration 26, loss = 0.32457398\n",
            "Iteration 27, loss = 0.32370911\n",
            "Iteration 28, loss = 0.32313516\n",
            "Iteration 29, loss = 0.32164347\n",
            "Iteration 30, loss = 0.32284918\n",
            "Iteration 31, loss = 0.32191206\n",
            "Iteration 32, loss = 0.32101804\n",
            "Iteration 33, loss = 0.31980270\n",
            "Iteration 34, loss = 0.32002195\n",
            "Iteration 35, loss = 0.31943065\n",
            "Iteration 36, loss = 0.31867130\n",
            "Iteration 37, loss = 0.31850974\n",
            "Iteration 38, loss = 0.32249294\n",
            "Iteration 39, loss = 0.31825778\n",
            "Iteration 40, loss = 0.31819917\n",
            "Iteration 41, loss = 0.31638035\n",
            "Iteration 42, loss = 0.31704879\n",
            "Iteration 43, loss = 0.31586863\n",
            "Iteration 44, loss = 0.31546851\n",
            "Iteration 45, loss = 0.31542447\n",
            "Iteration 46, loss = 0.31524138\n",
            "Iteration 47, loss = 0.31418211\n",
            "Iteration 48, loss = 0.31477742\n",
            "Iteration 49, loss = 0.31442609\n",
            "Iteration 50, loss = 0.31534177\n",
            "Iteration 51, loss = 0.31390160\n",
            "Iteration 52, loss = 0.31298968\n",
            "Iteration 53, loss = 0.31334335\n",
            "Iteration 54, loss = 0.31335789\n",
            "Iteration 55, loss = 0.31176192\n",
            "Iteration 56, loss = 0.31231287\n",
            "Iteration 57, loss = 0.31110731\n",
            "Iteration 58, loss = 0.31161026\n",
            "Iteration 59, loss = 0.31241410\n",
            "Iteration 60, loss = 0.31109171\n",
            "Iteration 61, loss = 0.31119575\n",
            "Iteration 62, loss = 0.30946987\n",
            "Iteration 63, loss = 0.30972405\n",
            "Iteration 64, loss = 0.31019980\n",
            "Iteration 65, loss = 0.30893979\n",
            "Iteration 66, loss = 0.30908904\n",
            "Iteration 67, loss = 0.30876763\n",
            "Iteration 68, loss = 0.30962531\n",
            "Iteration 69, loss = 0.30899065\n",
            "Iteration 70, loss = 0.30760562\n",
            "Iteration 71, loss = 0.30744519\n",
            "Iteration 72, loss = 0.30744912\n",
            "Iteration 73, loss = 0.30743428\n",
            "Iteration 74, loss = 0.30710453\n",
            "Iteration 75, loss = 0.30670640\n",
            "Iteration 76, loss = 0.30644666\n",
            "Iteration 77, loss = 0.30587566\n",
            "Iteration 78, loss = 0.30561142\n",
            "Iteration 79, loss = 0.30481333\n",
            "Iteration 80, loss = 0.30371202\n",
            "Iteration 81, loss = 0.30388399\n",
            "Iteration 82, loss = 0.30403829\n",
            "Iteration 83, loss = 0.30359495\n",
            "Iteration 84, loss = 0.30266941\n",
            "Iteration 85, loss = 0.30321175\n",
            "Iteration 86, loss = 0.30245160\n",
            "Iteration 87, loss = 0.30209019\n",
            "Iteration 88, loss = 0.30232505\n",
            "Iteration 89, loss = 0.30269677\n",
            "Iteration 90, loss = 0.30130825\n",
            "Iteration 91, loss = 0.30045073\n",
            "Iteration 92, loss = 0.30012597\n",
            "Iteration 93, loss = 0.30086008\n",
            "Iteration 94, loss = 0.30052970\n",
            "Iteration 95, loss = 0.29979339\n",
            "Iteration 96, loss = 0.30061727\n",
            "Iteration 97, loss = 0.29771825\n",
            "Iteration 98, loss = 0.29831688\n",
            "Iteration 99, loss = 0.29826460\n",
            "Iteration 100, loss = 0.29837909\n",
            "Iteration 101, loss = 0.29679668\n",
            "Iteration 102, loss = 0.29658882\n",
            "Iteration 103, loss = 0.29632237\n",
            "Iteration 104, loss = 0.29612110\n",
            "Iteration 105, loss = 0.29597817\n",
            "Iteration 106, loss = 0.29659930\n",
            "Iteration 107, loss = 0.29436757\n",
            "Iteration 108, loss = 0.29629469\n",
            "Iteration 109, loss = 0.29648126\n",
            "Iteration 110, loss = 0.29537429\n",
            "Iteration 111, loss = 0.29423742\n",
            "Iteration 112, loss = 0.29356032\n",
            "Iteration 113, loss = 0.29382432\n",
            "Iteration 114, loss = 0.29307182\n",
            "Iteration 115, loss = 0.29320196\n",
            "Iteration 116, loss = 0.29395783\n",
            "Iteration 117, loss = 0.29247209\n",
            "Iteration 118, loss = 0.29445766\n",
            "Iteration 119, loss = 0.29165957\n",
            "Iteration 120, loss = 0.29077075\n",
            "Iteration 121, loss = 0.29069948\n",
            "Iteration 122, loss = 0.29088759\n",
            "Iteration 123, loss = 0.29202891\n",
            "Iteration 124, loss = 0.28947980\n",
            "Iteration 125, loss = 0.28879884\n",
            "Iteration 126, loss = 0.28918045\n",
            "Iteration 127, loss = 0.28987600\n",
            "Iteration 128, loss = 0.28911438\n",
            "Iteration 129, loss = 0.28920497\n",
            "Iteration 130, loss = 0.28810855\n",
            "Iteration 131, loss = 0.28881236\n",
            "Iteration 132, loss = 0.28739856\n",
            "Iteration 133, loss = 0.28824804\n",
            "Iteration 134, loss = 0.28749250\n",
            "Iteration 135, loss = 0.28720378\n",
            "Iteration 136, loss = 0.28698323\n",
            "Iteration 137, loss = 0.28695752\n",
            "Iteration 138, loss = 0.28755670\n",
            "Iteration 139, loss = 0.28757084\n",
            "Iteration 140, loss = 0.28723521\n",
            "Iteration 141, loss = 0.28546152\n",
            "Iteration 142, loss = 0.28651254\n",
            "Iteration 143, loss = 0.28544100\n",
            "Iteration 144, loss = 0.28738478\n",
            "Iteration 145, loss = 0.28361584\n",
            "Iteration 146, loss = 0.28732555\n",
            "Iteration 147, loss = 0.28648216\n",
            "Iteration 148, loss = 0.28477395\n",
            "Iteration 149, loss = 0.28272326\n",
            "Iteration 150, loss = 0.28301059\n",
            "Iteration 151, loss = 0.28271705\n",
            "Iteration 152, loss = 0.28357187\n",
            "Iteration 153, loss = 0.28445270\n",
            "Iteration 154, loss = 0.28356957\n",
            "Iteration 155, loss = 0.28178938\n",
            "Iteration 156, loss = 0.28141254\n",
            "Iteration 157, loss = 0.28377586\n",
            "Iteration 158, loss = 0.28581384\n",
            "Iteration 159, loss = 0.28191321\n",
            "Iteration 160, loss = 0.28124728\n",
            "Iteration 161, loss = 0.28081736\n",
            "Iteration 162, loss = 0.28103398\n",
            "Iteration 163, loss = 0.27948442\n",
            "Iteration 164, loss = 0.28037886\n",
            "Iteration 165, loss = 0.28106520\n",
            "Iteration 166, loss = 0.27952639\n",
            "Iteration 167, loss = 0.28267366\n",
            "Iteration 168, loss = 0.28269996\n",
            "Iteration 169, loss = 0.28073676\n",
            "Iteration 170, loss = 0.27841138\n",
            "Iteration 171, loss = 0.27896821\n",
            "Iteration 172, loss = 0.27892664\n",
            "Iteration 173, loss = 0.27787630\n",
            "Iteration 174, loss = 0.28020435\n",
            "Iteration 175, loss = 0.27900968\n",
            "Iteration 176, loss = 0.27774496\n",
            "Iteration 177, loss = 0.27879429\n",
            "Iteration 178, loss = 0.28068020\n",
            "Iteration 179, loss = 0.27726408\n",
            "Iteration 180, loss = 0.27747774\n",
            "Iteration 181, loss = 0.27648616\n",
            "Iteration 182, loss = 0.27604532\n",
            "Iteration 183, loss = 0.27799676\n",
            "Iteration 184, loss = 0.27549366\n",
            "Iteration 185, loss = 0.27689717\n",
            "Iteration 186, loss = 0.27563118\n",
            "Iteration 187, loss = 0.27633669\n",
            "Iteration 188, loss = 0.27449397\n",
            "Iteration 189, loss = 0.27436249\n",
            "Iteration 190, loss = 0.27456523\n",
            "Iteration 191, loss = 0.27664036\n",
            "Iteration 192, loss = 0.27573753\n",
            "Iteration 193, loss = 0.27492519\n",
            "Iteration 194, loss = 0.27612374\n",
            "Iteration 195, loss = 0.27407840\n",
            "Iteration 196, loss = 0.27168633\n",
            "Iteration 197, loss = 0.27345470\n",
            "Iteration 198, loss = 0.27402721\n",
            "Iteration 199, loss = 0.27269056\n",
            "Iteration 200, loss = 0.27267557\n",
            "Iteration 201, loss = 0.27290251\n",
            "Iteration 202, loss = 0.27290044\n",
            "Iteration 203, loss = 0.27353507\n",
            "Iteration 204, loss = 0.27144943\n",
            "Iteration 205, loss = 0.27307474\n",
            "Iteration 206, loss = 0.27084161\n",
            "Iteration 207, loss = 0.27041843\n",
            "Iteration 208, loss = 0.27062054\n",
            "Iteration 209, loss = 0.27209403\n",
            "Iteration 210, loss = 0.27290308\n",
            "Iteration 211, loss = 0.26922630\n",
            "Iteration 212, loss = 0.26829605\n",
            "Iteration 213, loss = 0.27302820\n",
            "Iteration 214, loss = 0.26976586\n",
            "Iteration 215, loss = 0.26887589\n",
            "Iteration 216, loss = 0.27247422\n",
            "Iteration 217, loss = 0.26964204\n",
            "Iteration 218, loss = 0.26975075\n",
            "Iteration 219, loss = 0.26966697\n",
            "Iteration 220, loss = 0.26896954\n",
            "Iteration 221, loss = 0.26991711\n",
            "Iteration 222, loss = 0.26844663\n",
            "Iteration 223, loss = 0.27162759\n",
            "Training loss did not improve more than tol=0.000100 for 10 consecutive epochs. Stopping.\n"
          ]
        }
      ],
      "source": [
        "\n",
        "#Different values for hiden layer sizes, activation function, max iteration, and learning rate were provided here and tracked in report table\n",
        "from sklearn.neural_network import MLPClassifier\n",
        "mlp = MLPClassifier(hidden_layer_sizes=(10,30,30,30,10), activation='relu', max_iter=500, learning_rate_init=0.001 , learning_rate='invscaling',verbose=True)\n",
        "mlp.fit(X_train, Y_train)\n",
        "testPredictions = mlp.predict(X_test)\n",
        "trainPredictions = mlp.predict(X_train)\n",
        "from sklearn.metrics import classification_report, confusion_matrix\n"
      ]
    },
    {
      "cell_type": "code",
      "execution_count": 531,
      "metadata": {
        "colab": {
          "base_uri": "https://localhost:8080/"
        },
        "id": "Pl-fBN3Bc6pd",
        "outputId": "8de5cbfc-8b6e-47f1-993d-f2d03a6459ac"
      },
      "outputs": [
        {
          "name": "stdout",
          "output_type": "stream",
          "text": [
            "[[2536  316]\n",
            " [ 342  571]]\n"
          ]
        }
      ],
      "source": [
        "print(confusion_matrix(Y_test, testPredictions))\n"
      ]
    },
    {
      "cell_type": "code",
      "execution_count": 532,
      "metadata": {
        "colab": {
          "base_uri": "https://localhost:8080/"
        },
        "id": "svQ09Mf4Cg5r",
        "outputId": "8208d301-f33c-4f74-8bfc-b2ae5678ff94"
      },
      "outputs": [
        {
          "name": "stdout",
          "output_type": "stream",
          "text": [
            "              precision    recall  f1-score   support\n",
            "\n",
            "           0       0.88      0.89      0.89      2852\n",
            "           1       0.64      0.63      0.63       913\n",
            "\n",
            "    accuracy                           0.83      3765\n",
            "   macro avg       0.76      0.76      0.76      3765\n",
            "weighted avg       0.82      0.83      0.82      3765\n",
            "\n"
          ]
        }
      ],
      "source": [
        "print(classification_report(Y_test, testPredictions))"
      ]
    },
    {
      "cell_type": "code",
      "execution_count": 533,
      "metadata": {
        "colab": {
          "base_uri": "https://localhost:8080/"
        },
        "id": "HUrEa_RUDKz-",
        "outputId": "aa89afd0-3c66-406d-fdfd-fae7b9b8fa80"
      },
      "outputs": [
        {
          "name": "stdout",
          "output_type": "stream",
          "text": [
            "              precision    recall  f1-score   support\n",
            "\n",
            "           0       0.91      0.93      0.92      8507\n",
            "           1       0.77      0.72      0.74      2787\n",
            "\n",
            "    accuracy                           0.88     11294\n",
            "   macro avg       0.84      0.83      0.83     11294\n",
            "weighted avg       0.88      0.88      0.88     11294\n",
            "\n"
          ]
        }
      ],
      "source": [
        "print(classification_report(Y_train, trainPredictions))"
      ]
    }
  ],
  "metadata": {
    "colab": {
      "name": "Assignment2.ipynb",
      "provenance": []
    },
    "kernelspec": {
      "display_name": "Python 3",
      "name": "python3"
    },
    "language_info": {
      "name": "python"
    }
  },
  "nbformat": 4,
  "nbformat_minor": 0
}
